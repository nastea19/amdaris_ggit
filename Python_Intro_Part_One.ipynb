{
  "nbformat": 4,
  "nbformat_minor": 0,
  "metadata": {
    "colab": {
      "provenance": [],
      "collapsed_sections": [
        "jUSzmtnB9XW0"
      ],
      "include_colab_link": true
    },
    "kernelspec": {
      "name": "python3",
      "display_name": "Python 3"
    }
  },
  "cells": [
    {
      "cell_type": "markdown",
      "metadata": {
        "id": "view-in-github",
        "colab_type": "text"
      },
      "source": [
        "<a href=\"https://colab.research.google.com/github/nastea19/amdaris_ggit/blob/main/Python_Intro_Part_One.ipynb\" target=\"_parent\"><img src=\"https://colab.research.google.com/assets/colab-badge.svg\" alt=\"Open In Colab\"/></a>"
      ]
    },
    {
      "cell_type": "markdown",
      "metadata": {
        "id": "J3Jp1FANqvXn"
      },
      "source": [
        "# Introducere"
      ]
    },
    {
      "cell_type": "markdown",
      "metadata": {
        "id": "Ost-L4s6rh9Q"
      },
      "source": [
        "### Ce vom învăța astăzi?\n"
      ]
    },
    {
      "cell_type": "code",
      "source": [],
      "metadata": {
        "id": "mr744qXSUnfQ"
      },
      "execution_count": null,
      "outputs": []
    },
    {
      "cell_type": "markdown",
      "source": [],
      "metadata": {
        "id": "Sv9ixuhRUoCZ"
      }
    },
    {
      "cell_type": "markdown",
      "metadata": {
        "id": "zPyhH2iCrrSt"
      },
      "source": [
        "\n",
        "\n",
        "\n",
        "\n",
        "\n",
        "\n",
        "\n",
        "\n",
        "\n",
        "\n",
        "\n",
        "\n",
        "\n",
        "\n",
        "\n",
        "\n",
        "\n",
        "\n",
        "\n",
        "\n",
        "\n",
        "\n",
        "\n",
        "\n",
        "\n",
        "\n",
        "\n",
        "\n",
        "\n",
        "\n",
        "\n",
        "\n",
        "\n",
        "\n",
        "\n",
        "\n",
        "\n",
        "\n",
        "\n",
        "\n",
        "\n",
        "\n",
        "\n",
        "\n",
        "\n",
        "\n",
        "\n",
        "\n",
        "\n",
        "\n",
        "\n",
        "\n",
        "*   Cum se utilizează Google Colab\n",
        "*   Ce este Python ?\n",
        "*   Sintaxa\n",
        "*   Variabile\n",
        "*   Comentarii\n",
        "*   Tipuri de date\n",
        "*   Operatori\n",
        "*   Concatenare\n",
        "*   Funcții predefinite\n",
        "*   Condiționalul if, elif și else\n",
        "*   Operatori logici\n",
        "\n",
        "\n"
      ]
    },
    {
      "cell_type": "markdown",
      "metadata": {
        "id": "daNCOodxyuDU"
      },
      "source": [
        "### Utilizarea Google Colab\n"
      ]
    },
    {
      "cell_type": "markdown",
      "source": [
        "**Colab** permite oricui să scrie și să execute cod python arbitrar prin browser și este deosebit de potrivit pentru învățare și educație.  \n",
        "\n",
        "Avantaje utilizării acestuia sunt că nu necesită configurare pe calculator, poate fi partajat ușor și dispune de vizualizări grafice ușor accesibile.\n",
        "\n",
        "\n",
        "❗ Pentru început fiecare participant trebuie să facă o copie a colabului trimis la ei pe google drive, pentru a lucra de sinestătător.\n",
        "\n",
        "`File -> Save a copy in Drive`"
      ],
      "metadata": {
        "id": "Jf5NWozGS5b9"
      }
    },
    {
      "cell_type": "markdown",
      "source": [
        "* **Cum creăm o celulă nouă de text/cod?**\n",
        "\n",
        "  Pentru a crea o celulă nouă facem click pe butonul +Code sau +Text, în dependență de ce fel de celulă vrem să creăm."
      ],
      "metadata": {
        "id": "UAb5TpXVwaKg"
      }
    },
    {
      "cell_type": "code",
      "source": [],
      "metadata": {
        "id": "Jlhp5mP4Uuz2"
      },
      "execution_count": null,
      "outputs": []
    },
    {
      "cell_type": "markdown",
      "source": [
        "aceasta este o celula de text\n"
      ],
      "metadata": {
        "id": "vDhoQML5we6r"
      }
    },
    {
      "cell_type": "code",
      "source": [
        "#aceasta este o celulă de cod"
      ],
      "metadata": {
        "id": "VfV7GFpZwfW9"
      },
      "execution_count": null,
      "outputs": []
    },
    {
      "cell_type": "markdown",
      "source": [
        "* **Ce putem face cu o celulă nou creată?**\n",
        "\n",
        "  După crearea celulei, aceasta poate să își schimbe poziția făcând click pe săgețile sus sau jos. Aceasta poate fi ștearsă, accesând butonul în formă de urnă. Putem adăuga comentarii, accesâng butonul sub formă de chat. La fel, putem crea link către o celula anumită, accesând butonul link."
      ],
      "metadata": {
        "id": "lGJISBFzwnjF"
      }
    },
    {
      "cell_type": "markdown",
      "source": [
        "Comenzi rapide disponibile:\n",
        "\n",
        "*   Paleta de comenzi – ***Ctrl+Shift+P***\n",
        "*   Adăugați un comentariu – ***Ctrl+Alt+M***\n",
        "*   Convertiți în celulă text – ***Ctrl+M+M***\n",
        "*   Adăugați o nouă celulă mai jos – ***Ctrl+B+B***\n",
        "*   Rulați toate celulele - ***Ctrl+F9***\n",
        "*   Rulați celula curentă – ***Ctrl+Enter***\n",
        "*   Salvați blocknotul – ***Ctrl+S***\n",
        "*   Afișați comenzile rapide de la tastatură – ***Ctrl+M+H***\n",
        "\n",
        "Toate comenzile rapide pot fi editate pentru a se potrivi nevoilor dvs."
      ],
      "metadata": {
        "id": "_XBnkQZjQ5jE"
      }
    },
    {
      "cell_type": "code",
      "metadata": {
        "id": "-LZ-0n48v0fm"
      },
      "source": [
        "# apasam shift + enter ca sa rulam aceasta celula"
      ],
      "execution_count": null,
      "outputs": []
    },
    {
      "cell_type": "code",
      "metadata": {
        "id": "4KTglaXu4DJk"
      },
      "source": [
        "# acum sa cream o celula noua de cod"
      ],
      "execution_count": null,
      "outputs": []
    },
    {
      "cell_type": "code",
      "metadata": {
        "id": "F6X3ePhRxCF0"
      },
      "source": [
        "# iar acum hai sa cream o celula noua de text"
      ],
      "execution_count": null,
      "outputs": []
    },
    {
      "cell_type": "code",
      "metadata": {
        "id": "d3-sMsFavpnZ"
      },
      "source": [
        "# stergeti aceasta celula"
      ],
      "execution_count": null,
      "outputs": []
    },
    {
      "cell_type": "markdown",
      "source": [
        "\n",
        "* **Cum navigăm pe bara de conținut?**\n",
        "\n",
        "  Pentru a naviga mai ușor în colab este dispoibilă o bară de conținut, aceasta poate fi găsită în partea de stânga sus, facând click pe un buton în formă de listă.\n"
      ],
      "metadata": {
        "id": "ezbv4MLXxJlC"
      }
    },
    {
      "cell_type": "markdown",
      "metadata": {
        "id": "Fnf2TOezO0rH"
      },
      "source": [
        "# Ce este un limbaj de programare?"
      ]
    },
    {
      "cell_type": "markdown",
      "source": [
        "  Un **limbaj de programare** este **orice limbaj în care o persoană poate da instrucțiuni unui computer**. Putem efectua acest lucru prin scrierea diversor programe. Iar un program este un set de instrucțiuni care ajută computerul să efectueze diverse sarcini. Acest set de instrucțiuni mai este numit și scripturi. Programele sunt executate de procesor, în timp ce scripturile sunt interpretate. Limbile care sunt folosite pentru a scrie un program sau un set de instrucțiuni se numesc „limbaje de programare”.\n",
        "\n",
        "\n",
        "Există mai multe tipuri de limbaje de programare:\n",
        "\n",
        "* limbaj la nivel de mașină(binary);\n",
        "* limbaj la nivel de asamblare(ADA, PASCAL);\n",
        "* limbaj la nivel înalt(C++, Java, Python).\n"
      ],
      "metadata": {
        "id": "TlT_CUQlxjbL"
      }
    },
    {
      "cell_type": "markdown",
      "metadata": {
        "id": "UiXSysYxsxp7"
      },
      "source": [
        "##  **Python**"
      ]
    },
    {
      "cell_type": "markdown",
      "source": [
        "Astăzi, noi vom vorbi despre limbajele la nivel înalt, și anume limbajul de programare Python."
      ],
      "metadata": {
        "id": "C-J6aixvxqYp"
      }
    },
    {
      "cell_type": "markdown",
      "metadata": {
        "id": "Pxj4fKcVJpLE"
      },
      "source": [
        "![link text](https://girlsgoitpublic.z6.web.core.windows.net/c1_1.png)"
      ]
    },
    {
      "cell_type": "markdown",
      "source": [
        "**Python** este un limbaj de programare foarte popular, oferind posibilitatea programării structurate dar și orientate pe obiect și incluzând și elemente din paradigma funcțională. Este un limbaj de scripting, ceea ce înseamnă că este interpretat și nu compilat, economisind mult timp în procesul de dezvoltare și debugging."
      ],
      "metadata": {
        "id": "TIFZP1ZwVd_E"
      }
    },
    {
      "cell_type": "markdown",
      "source": [
        "\n",
        "* Într-un limbaj compilat, mașina țintă traduce direct programul. Într-un limbaj *interpretat*, codul sursă nu este tradus direct de către mașina țintă. În schimb, un alt program, cunoscut și sub numele de interpret, citește și execută codul.\n",
        "  \n",
        "* Interpretii rulează printr-un program linie cu linie și execută fiecare comandă."
      ],
      "metadata": {
        "id": "V2vpUfYOVznV"
      }
    },
    {
      "cell_type": "markdown",
      "source": [
        "### **De ce Python?**\n",
        "\n",
        "* Pentru că acesta funcționează pe diferite platforme (Windows, Mac, Linux, Raspberry Pi etc).\n",
        "\n",
        "* Python are o sintaxă simplă similară cu limba engleză. Sintaxa  permite dezvoltatorilor să scrie programe cu mai puține linii decât alte limbaje de programare.\n",
        "\n",
        "* Python rulează pe un sistem interpretat, ceea ce înseamnă că codul poate fi executat imediat ce este scris. Aceasta înseamnă că prototiparea poate fi foarte rapidă.\n",
        "\n",
        "* Python poate fi tratat într-un mod procedural, într-un mod orientat pe obiecte sau într-un mod funcțional.\n",
        "E un limbaj foarte accesibil începătorilor.\n"
      ],
      "metadata": {
        "id": "qxRBjMszyD0a"
      }
    },
    {
      "cell_type": "markdown",
      "source": [
        "### **Unde este folosit Python?**\n",
        "* Automatizare – scripturi pentru administrarea mai multe device-uri.\n",
        "* Cyber-Security – Python ajuta la principiile de Pen-Testing prin realizarea automata de diferite atacuri asupra unui target.\n",
        "* Web Development – Aici Python poate fi utilizat cu ajutorul framework-urilor precum Pyramid sau Django pentru realizarea Backend-ului unui website.\n",
        "* Quality Assurance (QA – Controlul Calitatii) – Poate fi realizata testarea modulelor software ce urmeaza sa fie lansate pe piata, in vederea functionarii corecte si a vulnerabilitatii feature-urilor.\n",
        "* GUI (Graphical User Interface) – In Python pot fi create meniuri interactive pentru diferite programe.\n",
        "\n",
        "Pentru a vă motiva să studiați acest limbaj de programare, iată câteva exemple de software care au utilizat limbajul de programare python: **Youtube, Google, Instagram, Reddit, Spotify, Dropbox**, etc."
      ],
      "metadata": {
        "id": "Zsc_OXqMaXou"
      }
    },
    {
      "cell_type": "markdown",
      "metadata": {
        "id": "qD7pUDXXoy82"
      },
      "source": [
        "### **Sintaxa**"
      ]
    },
    {
      "cell_type": "markdown",
      "metadata": {
        "id": "XiT6j_Il1iFX"
      },
      "source": [
        "![link text](https://girlsgoitpublic.z6.web.core.windows.net/c1_4.png)"
      ]
    },
    {
      "cell_type": "markdown",
      "source": [
        "Python, la fel oricărui alt limbaj de programare, are regurile sale de scriere.\n",
        "\n",
        "* **Indentarea** se referă la spațiile de la începutul unei linii de cod.În cazul în care în alte limbaje de programare, indentarea în cod este doar pentru lizibilitate, indentarea în Python este foarte importantă.Python folosește indentarea pentru a indica un bloc de cod.Python vă va da o eroare dacă omiteți indentarea.\n",
        "```\n",
        "  if 5 > 2:\n",
        "    print(\"Five is greater than two!\")\n",
        "```\n",
        "* Numărul de spații depinde de tine ca programator, cea mai obișnuită utilizare este de patru, dar trebuie să fie cel puțin unul. Trebuie să utilizați același număr de spații în același bloc de cod, altfel Python vă va da o eroare.\n",
        "\n",
        "* Un bloc de cod are toate liniile indentate cu același număr de spații (nu există begin și end sau {}).\n",
        "\n",
        "* Instrucțiunile dintr-un bloc de cod vor fi grupate unele sub altele, pe același nivel de indentare.\n",
        "\n",
        "* Definițiile neindentate într-un program Python vor fi de obicei variabile globale, definiții de clase, proceduri, funcții.\n",
        "\n",
        "* După instrucțiuni nu este obligatoriu să puneți simbolul ';' precum în alte limbaje de programare, indentarea corespunzatoare fiind suficientă.\n",
        "\n",
        "* Este foarte important sa nu uitați simbolul ':' care precede o indentare.\n"
      ],
      "metadata": {
        "id": "IkMkIhB8zH6u"
      }
    },
    {
      "cell_type": "code",
      "source": [
        "a = 1\n",
        "# Afisam numerele de la 1 la 10\n",
        "while a <= 10:\n",
        "    print(a)\n",
        "    a += 1\n",
        "print(\"Am terminat\")"
      ],
      "metadata": {
        "id": "P2sLIPFJb_Jx"
      },
      "execution_count": null,
      "outputs": []
    },
    {
      "cell_type": "markdown",
      "metadata": {
        "id": "MEvinQv9qGHB"
      },
      "source": [
        "### **Variabile în Python**"
      ]
    },
    {
      "cell_type": "markdown",
      "source": [
        "**Variabilele** sunt niște **containere pentru stocarea valorilor datelor**. Sau cu alte cuvinte, o variabilă este ca un nume pentru o valoare. Python nu utilizează nicio comandă pentru declararea unei variabile. O variabilă este creată în momentul în care îi atribui prima dată o valoare. Variabilele nu trebuie să fie declarate de un anumit tip și chiar își pot schimba tipul după ce au fost create.\n",
        "\n",
        "O variabilă poate avea un nume scurt (precum x și y) sau un nume mai descriptiv (age, name, total_volume).\n"
      ],
      "metadata": {
        "id": "G_JwKvoCgdHK"
      }
    },
    {
      "cell_type": "markdown",
      "metadata": {
        "id": "YHVl0-Px60ug"
      },
      "source": [
        "**Variabile** : etichete atașate datelor (inclusiv text sau chiar cod).\n",
        "\n",
        "O **variabilă** este ca un **nume** pentru o **valoare**."
      ]
    },
    {
      "cell_type": "code",
      "metadata": {
        "id": "O50Ioxc8rBK6"
      },
      "source": [
        "# care sunt variabile din codul de mai jos?\n",
        "nume = \"Tania\"\n",
        "\n",
        "limbaj_de_programare = \"Python\"\n",
        "\n",
        "varsta = 17\n",
        "\n",
        "salariu = 3800.98\n",
        "\n",
        "print(nume)\n",
        "print(limbaj_de_programare)\n",
        "print(varsta)\n",
        "print(salariu)"
      ],
      "execution_count": null,
      "outputs": []
    },
    {
      "cell_type": "markdown",
      "source": [
        " **Reguli pentru scrierea variabilele Python:**\n",
        "\n",
        "* o variabilă trebuie să înceapă cu o literă sau un caracter de subliniere_\n",
        "* o variabilă nu poate să înceapă cu un număr\n",
        "* o variabilă nu poate conține decât caractere alfa-numerice și scrise (A-z, 0-9 și _)\n",
        "* denumirile de variabilă sunt sensibile la majuscule/case-sensitive (name, Name și NAME sunt trei variabile diferite)\n"
      ],
      "metadata": {
        "id": "HCCNcsmW-nxQ"
      }
    },
    {
      "cell_type": "code",
      "metadata": {
        "id": "zc9FGNqosdoK"
      },
      "source": [
        "#definirea corectă a variabilelor:\n",
        "my_var = \"John\" #snake_case - varianta recomandata\n",
        "myvar = \"John\"\n",
        "_my_var = \"John\"\n",
        "myVar = \"John\"\n",
        "MYVAR = \"John\"\n",
        "myvar2 = \"John\""
      ],
      "execution_count": null,
      "outputs": []
    },
    {
      "cell_type": "code",
      "metadata": {
        "id": "kdjdSumIfhV7"
      },
      "source": [
        "#definirea incorectă:\n",
        "# 2myvar = \"John\"\n",
        "# my var = \"John\"\n",
        "# my_var = \"John\"\n"
      ],
      "execution_count": null,
      "outputs": []
    },
    {
      "cell_type": "markdown",
      "metadata": {
        "id": "dIRWjIwxVnBs"
      },
      "source": [
        "**Exercițiu:** 3 min"
      ]
    },
    {
      "cell_type": "code",
      "metadata": {
        "id": "SwZmkkxggRkz"
      },
      "source": [
        "# creaza 2 variabile:\n",
        "# prima sa indice prenumele tau\n",
        "# a doua sa indice numele tau de familie\n",
        "# afiseaza aceaste variabile la ecran"
      ],
      "execution_count": null,
      "outputs": []
    },
    {
      "cell_type": "code",
      "source": [],
      "metadata": {
        "id": "YzAPdN6e-f6u"
      },
      "execution_count": null,
      "outputs": []
    },
    {
      "cell_type": "markdown",
      "source": [
        "\n",
        "\n",
        "---\n",
        "\n",
        "**Exerciții**\n",
        "\n",
        "\n",
        "\n",
        "\n",
        "---\n",
        "\n",
        "\n"
      ],
      "metadata": {
        "id": "aOWGrqPY-6o1"
      }
    },
    {
      "cell_type": "markdown",
      "source": [
        "**1.**"
      ],
      "metadata": {
        "id": "dgxgHG6H_TCl"
      }
    },
    {
      "cell_type": "code",
      "metadata": {
        "id": "9jM6JMs2b7OV"
      },
      "source": [
        "# avem numele 'Ilinca' atribuit variabilei name\n",
        "name = \"Ilinca's name\"\n",
        "print(name)"
      ],
      "execution_count": null,
      "outputs": []
    },
    {
      "cell_type": "code",
      "metadata": {
        "id": "wjrzfRcVcFPN"
      },
      "source": [
        "# acum atribuim numele 'Ana' la fel variabilei name\n",
        "name = \"\"\n",
        "print(name, name)\n",
        "# ce s-a intamplat cu numele 'Ilinca'? De ce?"
      ],
      "execution_count": null,
      "outputs": []
    },
    {
      "cell_type": "code",
      "metadata": {
        "id": "ntAhSWCRcr-b",
        "cellView": "form"
      },
      "source": [
        "# @title **Tips**\n",
        "# creati variabile diferite pentru a nu pierde valori"
      ],
      "execution_count": null,
      "outputs": []
    },
    {
      "cell_type": "markdown",
      "source": [
        "**2.**"
      ],
      "metadata": {
        "id": "HMHndLa__VMF"
      }
    },
    {
      "cell_type": "code",
      "metadata": {
        "id": "67hz331HfVRm"
      },
      "source": [
        "# ce valoare va avea variabila result? de ce?\n",
        "result = 2 + 2\n",
        "print(result + 10)\n",
        "print(result)"
      ],
      "execution_count": null,
      "outputs": []
    },
    {
      "cell_type": "markdown",
      "source": [
        "**3.**"
      ],
      "metadata": {
        "id": "s99_rzBs_e34"
      }
    },
    {
      "cell_type": "code",
      "metadata": {
        "id": "nJ_f-a2WhRKG"
      },
      "source": [
        "# ce valoare va avea variabila x? de ce?\n",
        "x = 20\n",
        "print(x)\n",
        "print(x + 80)\n",
        "\n",
        "x = x + 80\n",
        "print(x)"
      ],
      "execution_count": null,
      "outputs": []
    },
    {
      "cell_type": "markdown",
      "metadata": {
        "id": "kDxyIPFdi2Q4"
      },
      "source": [
        "❓**Întrebări**❓"
      ]
    },
    {
      "cell_type": "code",
      "source": [],
      "metadata": {
        "id": "GJQR26G6Awry"
      },
      "execution_count": null,
      "outputs": []
    },
    {
      "cell_type": "markdown",
      "source": [
        "### **Сommentarii**"
      ],
      "metadata": {
        "id": "re30Hv31cTnD"
      }
    },
    {
      "cell_type": "markdown",
      "source": [
        "* O singură linie se poate comenta în Python folosind simbolul **#**.\n",
        "\n",
        "* Pentru comentarii multi-line se folosesc trei ghilimele succesive **”””** sau **' ' '** la inceputul și respectiv la sfârșitul zonei de comentat.\n",
        "\n",
        "* Comentariile cu ghilimele succesive din interiorul unui bloc de cod trebuie să fie pe același nivel de indentare cu acesta, altfel veți avea `IndentationError` la execuție. Comentariile cu # nu au această restricție."
      ],
      "metadata": {
        "id": "lE34EgNOcYN5"
      }
    },
    {
      "cell_type": "code",
      "metadata": {
        "id": "0ITcCEma15Fe"
      },
      "source": [
        "#Acesta este un comentariu\n",
        "# Apasa Ctrl + / pentru a transforma un rand intr-un comentariu\n",
        "\n",
        "# Transforma in comentariu expresia de mai jos\n",
        "10 + 5"
      ],
      "execution_count": null,
      "outputs": []
    },
    {
      "cell_type": "code",
      "metadata": {
        "id": "7PX5YKfQeJui"
      },
      "source": [
        "# Afiseaza in doua randuri separate\n",
        "# rezultatele acestor expresii matematice:\n",
        "# 25 - 48\n",
        "# 487 + 56"
      ],
      "execution_count": null,
      "outputs": []
    },
    {
      "cell_type": "markdown",
      "source": [
        "###**Tipuri de date în Python**\n"
      ],
      "metadata": {
        "id": "_LOHMmxuBfEJ"
      }
    },
    {
      "cell_type": "markdown",
      "metadata": {
        "id": "oBT149litX0c"
      },
      "source": [
        "Un concept important din programare sunt **tipurile de date**.Variabilele pot stoca date de diferite tipuri, iar tipuri diferite pot face lucruri diferite.\n",
        "\n",
        "Python are următoarele tipuri de date încorporate în mod implicit, în aceste categorii:\n",
        "\n",
        "* Text Type:\t**`str`**  \n",
        "* Numeric Types:\t**`int`, `float`,** `complex `  \n",
        "* Sequence Types:\t`list`, `tuple`, `range`  \n",
        "* Mapping Type:\t`dict`\n",
        "* Set Types:\t`set`, `frozenset`\n",
        "* Boolean Type:\t**`bool`**  \n",
        "* Binary Types:\t`bytes`, `bytearray`, `memoryview`"
      ]
    },
    {
      "cell_type": "markdown",
      "source": [
        "Cele mai importante și pe care urmează să le disuctăm sunt:"
      ],
      "metadata": {
        "id": "ckMWVkHh_2Gh"
      }
    },
    {
      "cell_type": "markdown",
      "metadata": {
        "id": "JDFivqBc1Lyi"
      },
      "source": [
        "* **str**, un șir de caractere (un text)"
      ]
    },
    {
      "cell_type": "code",
      "metadata": {
        "id": "0Gw82Kbounom"
      },
      "source": [
        "# poate fi orice caracter in \" \"\n",
        "x = \"Hello World\"\n",
        "y = '13478*/+'\n",
        "z = 'text care contine\"\"'"
      ],
      "execution_count": null,
      "outputs": []
    },
    {
      "cell_type": "markdown",
      "metadata": {
        "id": "136wTzOgW0cF"
      },
      "source": [
        "❗ `type()` -  funcție care ne spune ce tip de date conține variabila data.\n",
        "\n",
        "❗ `print()` la fel e o funcție cu ajutorul căreia printăm rezultate la ecran.\n",
        "\n"
      ]
    },
    {
      "cell_type": "code",
      "metadata": {
        "id": "ns4193gaXwT_"
      },
      "source": [
        "# haideti sa ne convingem\n",
        "# ca variabilele x si y au valori de tip `string`\n",
        "\n",
        "print(type(x))\n",
        "print(type(y))"
      ],
      "execution_count": null,
      "outputs": []
    },
    {
      "cell_type": "code",
      "metadata": {
        "id": "uPbfjEunL_r0"
      },
      "source": [
        "# atribuie variabilei my_mood valoarea: I'm happy!\n",
        "my_mood = 'I\\'m happy'\n",
        "print(my_mood)"
      ],
      "execution_count": null,
      "outputs": []
    },
    {
      "cell_type": "markdown",
      "metadata": {
        "id": "sHScPtkx0c6E"
      },
      "source": [
        "\n",
        "\n",
        "* **int**, sau un număr întreg, este un număr întreg, pozitiv sau negativ, fără zecimale, de lungime nelimitată."
      ]
    },
    {
      "cell_type": "code",
      "metadata": {
        "id": "KUsl-KnLu3gI"
      },
      "source": [
        "# afiseaza tipul de date a valorii lui x\n",
        "x = 10\n",
        "print(type(x))"
      ],
      "execution_count": null,
      "outputs": []
    },
    {
      "cell_type": "markdown",
      "metadata": {
        "id": "9PNTDUUR0s8e"
      },
      "source": [
        "* **float**, sau numarul rational este un număr, pozitiv sau negativ, care conține unul sau mai multe zecimale."
      ]
    },
    {
      "cell_type": "code",
      "metadata": {
        "id": "ANr2PnZdzqIX"
      },
      "source": [
        "# iata cum arata un float\n",
        "x = 20.5\n",
        "\n",
        "print(x, type(x))"
      ],
      "execution_count": null,
      "outputs": []
    },
    {
      "cell_type": "markdown",
      "metadata": {
        "id": "yjFG6opn1i81"
      },
      "source": [
        "\n",
        "* **bool** reprezintă una dintre cele două valori: **True** (Adevărat) sau **False** (Fals)"
      ]
    },
    {
      "cell_type": "code",
      "metadata": {
        "id": "Do_6fkiez5qP"
      },
      "source": [
        "# bool de la boolean :)\n",
        "x = True\n",
        "type(x)"
      ],
      "execution_count": null,
      "outputs": []
    },
    {
      "cell_type": "markdown",
      "metadata": {
        "id": "1GplZlhUXl9E"
      },
      "source": [
        "### **Cum convertim dintr-un tip de date în alt tip de date?**\n",
        "\n",
        "\n"
      ]
    },
    {
      "cell_type": "code",
      "metadata": {
        "id": "rg6-AaQaWLJW"
      },
      "source": [
        "x = 2.8\n",
        "print(type(x))\n",
        "\n",
        "x = int(x)\n",
        "print(x)\n",
        "print(type(x))\n"
      ],
      "execution_count": null,
      "outputs": []
    },
    {
      "cell_type": "code",
      "metadata": {
        "id": "q1plqduCX2mW"
      },
      "source": [
        "x = '177'\n",
        "print(type(x))\n",
        "\n",
        "x = float(x)\n",
        "print(x)\n",
        "print(type(x))"
      ],
      "execution_count": null,
      "outputs": []
    },
    {
      "cell_type": "code",
      "metadata": {
        "id": "h_eROObvX-n9"
      },
      "source": [
        "x = 10\n",
        "print(type(x))\n",
        "\n",
        "x = str(x)\n",
        "print(x)\n",
        "print(type(x))"
      ],
      "execution_count": null,
      "outputs": []
    },
    {
      "cell_type": "code",
      "metadata": {
        "id": "QGGqd5bDxCjV"
      },
      "source": [
        "x = \"10\"\n",
        "print(type(x))\n",
        "\n",
        "x = int(x)\n",
        "print(type(x))\n",
        "print(x)"
      ],
      "execution_count": null,
      "outputs": []
    },
    {
      "cell_type": "code",
      "metadata": {
        "id": "5HGfeAv7xQso"
      },
      "source": [
        "x = False\n",
        "print(type(x))\n",
        "\n",
        "x = int(x)\n",
        "print(type(x))\n",
        "print(x)"
      ],
      "execution_count": null,
      "outputs": []
    },
    {
      "cell_type": "markdown",
      "metadata": {
        "id": "dfJf37kdi6vD"
      },
      "source": [
        "***Întrebări***❓"
      ]
    },
    {
      "cell_type": "markdown",
      "metadata": {
        "id": "jUSzmtnB9XW0"
      },
      "source": [
        "### **Operatori**"
      ]
    },
    {
      "cell_type": "code",
      "metadata": {
        "id": "AZEnaVVs9rOo"
      },
      "source": [
        "# adunare\n",
        "15 + 25"
      ],
      "execution_count": null,
      "outputs": []
    },
    {
      "cell_type": "code",
      "metadata": {
        "id": "psFH22E7-Msh"
      },
      "source": [
        "# scadere\n",
        "25 - 15"
      ],
      "execution_count": null,
      "outputs": []
    },
    {
      "cell_type": "code",
      "metadata": {
        "id": "NCQoYaUm-S-f"
      },
      "source": [
        "# imapartire\n",
        "20 / 3.5"
      ],
      "execution_count": null,
      "outputs": []
    },
    {
      "cell_type": "code",
      "metadata": {
        "id": "3JhvjR0S-e-I"
      },
      "source": [
        "# inmultire\n",
        "3 * 5"
      ],
      "execution_count": null,
      "outputs": []
    },
    {
      "cell_type": "code",
      "metadata": {
        "id": "znX2grD7-mEZ"
      },
      "source": [
        "# ???\n",
        "5 ** 2"
      ],
      "execution_count": null,
      "outputs": []
    },
    {
      "cell_type": "code",
      "metadata": {
        "id": "ed2a39YV-uCm"
      },
      "source": [
        "# cat o sa fie restul impartirii?\n",
        "40 % 15"
      ],
      "execution_count": null,
      "outputs": []
    },
    {
      "cell_type": "code",
      "metadata": {
        "id": "_VYZR-U4_ajY"
      },
      "source": [
        "# semnul mai mare\n",
        "25 > 15\n",
        "\n",
        "# ce rezultat vom avea?"
      ],
      "execution_count": null,
      "outputs": []
    },
    {
      "cell_type": "code",
      "metadata": {
        "id": "ID2MIYv3_lbX"
      },
      "source": [
        "# semnul mai mic\n",
        "25 < 15"
      ],
      "execution_count": null,
      "outputs": []
    },
    {
      "cell_type": "code",
      "metadata": {
        "id": "l7z98W56_6ej"
      },
      "source": [
        "# semnul mai mic sau egal\n",
        "25 <= 25"
      ],
      "execution_count": null,
      "outputs": []
    },
    {
      "cell_type": "code",
      "metadata": {
        "id": "6UV8QKDeATb8"
      },
      "source": [
        "# semnul mai mare sau egal\n",
        "10 >= 5"
      ],
      "execution_count": null,
      "outputs": []
    },
    {
      "cell_type": "code",
      "metadata": {
        "id": "_6EvSEJYAaz0"
      },
      "source": [
        "# ???\n",
        "30 == 30"
      ],
      "execution_count": null,
      "outputs": []
    },
    {
      "cell_type": "code",
      "metadata": {
        "id": "dAj4IgMoAlZY"
      },
      "source": [
        "# ???\n",
        "30 != 30"
      ],
      "execution_count": null,
      "outputs": []
    },
    {
      "cell_type": "code",
      "metadata": {
        "id": "0cVBBMyZBJHI"
      },
      "source": [
        "# o mica recapitulare:\n",
        "# ce valoare are c, d si e?\n",
        "\n",
        "a = 20\n",
        "b = 30\n",
        "c = (b - a) ** 2 # 100\n",
        "d = a == b # False\n",
        "e = c % a # 0\n",
        "print(c)\n",
        "print(d)\n",
        "print(e)\n"
      ],
      "execution_count": null,
      "outputs": []
    },
    {
      "cell_type": "markdown",
      "metadata": {
        "id": "2QU4550Tb9e9"
      },
      "source": [
        "### **Concatenare**"
      ]
    },
    {
      "cell_type": "markdown",
      "source": [
        "**Concatenarea** înseamnă obținerea unui string nou care conține ambele stringuri originale. În Python, există câteva moduri de a concatena sau combina stringuri. Noul string care este creat este denumit obiect string.\n",
        "\n",
        "Pentru a îmbina două stringuri într-un singur obiect, puteți folosi operatorul +."
      ],
      "metadata": {
        "id": "sMqqrg-fDOgo"
      }
    },
    {
      "cell_type": "code",
      "metadata": {
        "id": "1UrItuHtGUnA"
      },
      "source": [
        "# la ce mai putem sa folosim anumiti operatori?\n",
        "# concatenare\n",
        "\n",
        "string = 'Numele meu este '\n",
        "name = ' Alexandra'\n",
        "phrase = string + name\n",
        "\n",
        "print(phrase)"
      ],
      "execution_count": null,
      "outputs": []
    },
    {
      "cell_type": "code",
      "metadata": {
        "id": "r129qOWCHKQe"
      },
      "source": [
        "# putem sa concatenam stringurile chiar in print()\n",
        "print('Aceasta ' + 'este' + ' o' + ' propozitie')"
      ],
      "execution_count": null,
      "outputs": []
    },
    {
      "cell_type": "code",
      "metadata": {
        "id": "50HkeMAxHZTd"
      },
      "source": [
        "# sau putem sa multiplicam un string\n",
        "# print('a' * 55)\n",
        "\n",
        "# ce va afisa functia print() de mai jos?\n",
        "\n",
        "print('b ' * 5)"
      ],
      "execution_count": null,
      "outputs": []
    },
    {
      "cell_type": "code",
      "metadata": {
        "id": "IZBf52oPH1IN"
      },
      "source": [
        "# dar ce vor afisa aceste functii print()?\n",
        "#print('c' * 0)\n",
        "#print('c' * -1)\n",
        "#print('c' * 1.5)\n",
        "x = \"tudor\"\n",
        "y = \"or\"\n",
        "print(x - y)"
      ],
      "execution_count": null,
      "outputs": []
    },
    {
      "cell_type": "markdown",
      "metadata": {
        "id": "zQWH1U2w3eLo"
      },
      "source": [
        "***Întrebări***❓"
      ]
    },
    {
      "cell_type": "markdown",
      "source": [
        "### **Funcții predefinite**"
      ],
      "metadata": {
        "id": "ZxIniiMfDqPt"
      }
    },
    {
      "cell_type": "markdown",
      "source": [
        "Python mai dispune și de o serie de funcții predefinite. Pe careva deja le-ați și utilizat.\n",
        "\n",
        "`print(), type(), input(), str(), int(), float(), bool()`\n"
      ],
      "metadata": {
        "id": "OgI_E-6gE8JQ"
      }
    },
    {
      "cell_type": "markdown",
      "source": [
        "* **Funcția print()** imprimă mesajul specificat pe ecran sau pe alt dispozitiv de ieșire standard. Mesajul poate fi un șir, sau orice alt obiect, obiectul va fi convertit într-un șir înainte de a fi scris pe ecran.\n",
        "\n",
        "\n"
      ],
      "metadata": {
        "id": "cw6825J2FKxZ"
      }
    },
    {
      "cell_type": "code",
      "source": [
        "a = 5\n",
        "# Two objects are passed\n",
        "print(\"a =\", a)\n",
        "\n",
        "b = a\n",
        "# Three objects are passed\n",
        "print('a =', a, '= b')"
      ],
      "metadata": {
        "id": "aNbDREo3FL4L"
      },
      "execution_count": null,
      "outputs": []
    },
    {
      "cell_type": "markdown",
      "source": [
        "* **Funcția type()** returnează tipul obiectului specificat\n",
        "\n",
        "Parametru de intrare -  este nevoie de specificat un singur parametru, funcția type() returnează tipul acestui obiect.\n"
      ],
      "metadata": {
        "id": "tV5rNQX5FRp_"
      }
    },
    {
      "cell_type": "code",
      "source": [
        "#Returnează tipul acestor obiecte:\n",
        "\n",
        "a = ('mar', 'banana', 'cirese')\n",
        "b = 'hello world'\n",
        "c = 33\n",
        "\n",
        "\n",
        "print(type(a))\n",
        "print(type(b))\n",
        "print(type(c))"
      ],
      "metadata": {
        "id": "Hk-SJFoqFWMB"
      },
      "execution_count": null,
      "outputs": []
    },
    {
      "cell_type": "markdown",
      "source": [
        "* **Funcția input()** permite introducerea  oricăui text sau număr de către utilizator.\n",
        "\n",
        "Parametru de intrare- un string, reprezentând un mesaj implicit înainte de intrare\n"
      ],
      "metadata": {
        "id": "myq1ocaUFZYD"
      }
    },
    {
      "cell_type": "code",
      "source": [
        "print('Enter your name:')\n",
        "x = input()\n",
        "print('Hello, ' + x)"
      ],
      "metadata": {
        "id": "dFd740iWFgip"
      },
      "execution_count": null,
      "outputs": []
    },
    {
      "cell_type": "markdown",
      "source": [
        "* **Funcția str()** - convertește valoarea specificată într-un șir.\n",
        "\n",
        "Parametru de intrare - specifică obiectul de convertire într-un șir.\n"
      ],
      "metadata": {
        "id": "342KxheuFgBN"
      }
    },
    {
      "cell_type": "code",
      "source": [
        "# Convertiți numărul 3,5 într-un șir:\n",
        "x = str(3.5)\n",
        "print(type(x))"
      ],
      "metadata": {
        "id": "D2hStpnzGB4v"
      },
      "execution_count": null,
      "outputs": []
    },
    {
      "cell_type": "code",
      "source": [
        "# string representation of Luke\n",
        "name = str('Luke')\n",
        "print(name)"
      ],
      "metadata": {
        "id": "MlVBDI0VGFLc"
      },
      "execution_count": null,
      "outputs": []
    },
    {
      "cell_type": "code",
      "source": [
        "# string representation of an integer 40\n",
        "age = str(40)\n",
        "print(age)"
      ],
      "metadata": {
        "id": "82JoCCWSGJAn"
      },
      "execution_count": null,
      "outputs": []
    },
    {
      "cell_type": "code",
      "source": [
        "# string representation of a numeric string 7ft\n",
        "height = str('7ft')\n",
        "print(height)"
      ],
      "metadata": {
        "id": "jRVX2U89GLQm"
      },
      "execution_count": null,
      "outputs": []
    },
    {
      "cell_type": "markdown",
      "source": [
        "* **Funcția int()** convertește valoarea specificată într-un număr întreg\n"
      ],
      "metadata": {
        "id": "VkhOdwkJGMrS"
      }
    },
    {
      "cell_type": "code",
      "source": [
        "# Convertiți un șir într-un număr întreg:\n",
        "x = int(\"12\")\n",
        "print(type(x))\n",
        "# int() with an integer value\n",
        "print(\"int(123) is:\", int(123))\n",
        "\n",
        "# int() with a floating point value\n",
        "print(\"int(123.23) is:\", int(123.23))\n",
        "\n",
        "# int() with a numeric-string value\n",
        "print(\"int('123') is:\", int(\"123\"))"
      ],
      "metadata": {
        "id": "ELs_45E_GZcN"
      },
      "execution_count": null,
      "outputs": []
    },
    {
      "cell_type": "markdown",
      "source": [
        "* **Funcția float()** convertește valoarea specificată într-un număr în virgulă mobilă."
      ],
      "metadata": {
        "id": "DWYNbVB2GcZW"
      }
    },
    {
      "cell_type": "code",
      "source": [
        "#Convertiți un șir într-un număr în virgulă mobilă:\n",
        "x = float(\"3.500\")\n",
        "print(x)\n",
        "print(type(x))\n",
        "\n",
        "#Convertiți numărul 3 într-un număr în virgulă mobilă:\n",
        "x = float(3)\n",
        "print(x)"
      ],
      "metadata": {
        "id": "E6K4xYjwGg0-"
      },
      "execution_count": null,
      "outputs": []
    },
    {
      "cell_type": "markdown",
      "source": [
        "* **Metoda bool()** - preia un singur parametru:\n",
        "\n",
        "argument - a cărui valoare booleană este returnată\n",
        "\n",
        "Metoda bool() returnează:\n",
        "\n",
        "**False** - dacă argumentul este gol, Fals, 0 sau Nici unul\n",
        "\n",
        "**Adevărat** - dacă argumentul este orice număr (în afară de 0), Adevărat sau un string\n"
      ],
      "metadata": {
        "id": "3nKPoZEnGmxp"
      }
    },
    {
      "cell_type": "code",
      "source": [
        "test = 254\n",
        "# bool() with an integer number\n",
        "print(test, 'is', bool(test))"
      ],
      "metadata": {
        "id": "I7qQuSthGoBK"
      },
      "execution_count": null,
      "outputs": []
    },
    {
      "cell_type": "code",
      "source": [
        "test1 = 25.14\n",
        "# bool() with a floating point number\n",
        "print(test1, 'is', bool(test1))"
      ],
      "metadata": {
        "id": "APsdraQSGscj"
      },
      "execution_count": null,
      "outputs": []
    },
    {
      "cell_type": "code",
      "source": [
        "test = []\n",
        "# bool() with an empty argument\n",
        "print(test, 'is' ,bool(test))"
      ],
      "metadata": {
        "id": "2SXWjBViGwRY"
      },
      "execution_count": null,
      "outputs": []
    },
    {
      "cell_type": "code",
      "source": [
        "test1 = 0\n",
        "# bool() with zero\n",
        "print(test1, 'is' ,bool(test1))"
      ],
      "metadata": {
        "id": "kOvIjGpOGyPr"
      },
      "execution_count": null,
      "outputs": []
    },
    {
      "cell_type": "markdown",
      "metadata": {
        "id": "JbBW92v9CTQ9"
      },
      "source": [
        "### Conditionalul **if…elif…else**"
      ]
    },
    {
      "cell_type": "markdown",
      "metadata": {
        "id": "vvLqf1IrhdGL"
      },
      "source": [
        "**Condiția `if`** este considerată cea mai simplă dintre cele trei și ia o decizie în funcție dacă condiția e adevărată sau nu. Dacă condiția este adevărată, imprimă expresia indentată. Dacă condiția este falsă, omite imprimarea expresiei indentate.\n"
      ]
    },
    {
      "cell_type": "markdown",
      "source": [
        "Python acceptă condițiile logice obișnuite din matematică:\n",
        "\n",
        "* Este egal cu: **a == b**\n",
        "* Nu este egal cu: **a != b**\n",
        "* Mai puțin decât: **a < b**\n",
        "* Mai mic sau egal cu: **a <= b**\n",
        "* Mai mare decât: **a > b**\n",
        "* Mai mare sau egal cu: **a >= b**\n",
        "\n",
        "Aceste condiții pot fi utilizate în mai multe moduri, cel mai frecvent în „instrucțiuni if” și bucle."
      ],
      "metadata": {
        "id": "okskdrQgjDis"
      }
    },
    {
      "cell_type": "code",
      "source": [
        "a = 33\n",
        "b = 200\n",
        "if b > a:\n",
        "  print(\"b este mai mare ca a\")"
      ],
      "metadata": {
        "id": "NYpYd8Urjp81"
      },
      "execution_count": null,
      "outputs": []
    },
    {
      "cell_type": "markdown",
      "metadata": {
        "id": "uyU3mIJYmsKo"
      },
      "source": [
        "❗ Este foarte important să **indentăm** corect codul când folosim conditionalul if.\n",
        "\n",
        "In caz contrar vom obține eroarea de mai jos."
      ]
    },
    {
      "cell_type": "code",
      "metadata": {
        "id": "_xFI2q2unYsw"
      },
      "source": [
        "# de ce avem eroare?\n",
        "a = 33\n",
        "b = 200\n",
        "if b > a:\n",
        "print(\"b este mai mare ca a\")"
      ],
      "execution_count": null,
      "outputs": []
    },
    {
      "cell_type": "markdown",
      "metadata": {
        "id": "dUZvI1jfnpIW"
      },
      "source": [
        "**Ce este indentarea?**\n",
        "\n",
        "**Indentarea** se referă la spațiile de la începutul unei linii de cod.\n",
        "\n",
        "În cazul în care în alte limbaje de programare indentarea în cod este doar pentru lizibilitate, indentarea în Python este foarte importantă.\n",
        "\n",
        "Python folosește indentare pentru a indica un bloc de cod.\n",
        "\n",
        "Pentru a deplasa o linie de cod spre dreapta la distanța cerută de Python, utilizăm tasta **`tab`**"
      ]
    },
    {
      "cell_type": "markdown",
      "metadata": {
        "id": "x8xEzA8Bnu0S"
      },
      "source": [
        "![](https://girlsgoitpublic.z6.web.core.windows.net/c1_2.png)\n",
        "\n"
      ]
    },
    {
      "cell_type": "markdown",
      "metadata": {
        "id": "PatHxZlk0KeQ"
      },
      "source": [
        " * Structura **condiționalului if**"
      ]
    },
    {
      "cell_type": "markdown",
      "metadata": {
        "id": "kpIvIClUQg93"
      },
      "source": [
        "![link text](https://girlsgoitpublic.z6.web.core.windows.net/c1_3.png)\n"
      ]
    },
    {
      "cell_type": "markdown",
      "metadata": {
        "id": "yR0Pwmb1PzpP"
      },
      "source": [
        "**ELSE**\n",
        "\n",
        "**Când folosim `else`?**\n",
        "\n",
        "Când avem doar 2 opțiuni.\n",
        "\n",
        "De exemplu vrem să ne logăm pe pagina noastră de Facebook și trebuie să ne introducem numele. În spatele acestei funcționalități se află un `if` care verifică dacă numele pe care l-am introdus se află în sistemul Facebook-ului sau nu."
      ]
    },
    {
      "cell_type": "code",
      "metadata": {
        "id": "aIWXcbv2QI7u"
      },
      "source": [
        "a = 200\n",
        "b = 33\n",
        "if b > a:\n",
        "  print(\"b este mai mare ca a\")\n",
        "else:\n",
        "  print(\"a este mai mic ca b\")\n"
      ],
      "execution_count": null,
      "outputs": []
    },
    {
      "cell_type": "code",
      "metadata": {
        "id": "XgxkWMObkgYq"
      },
      "source": [
        "# hai sa scriem un algoritm care verifica.          2 min\n",
        "# daca cele 2 mingi au aceeasi culoare\n",
        "ball_1 = 'rosu'\n",
        "ball_2 = 'rosu'\n",
        "\n",
        "if..."
      ],
      "execution_count": null,
      "outputs": []
    },
    {
      "cell_type": "markdown",
      "metadata": {
        "id": "Et1mOaZQUWt9"
      },
      "source": [
        "**ELIF**\n",
        "\n",
        " `elif` care e defapt e `else + if`."
      ]
    },
    {
      "cell_type": "markdown",
      "source": [
        "Cuvântul cheie ***elif*** este modul pythons de a spune „dacă condițiile anterioare nu erau adevărate, atunci încercați această condiție”."
      ],
      "metadata": {
        "id": "pgU11wDvkY8q"
      }
    },
    {
      "cell_type": "code",
      "metadata": {
        "id": "6Gi-w7jSVIjo",
        "colab": {
          "base_uri": "https://localhost:8080/"
        },
        "outputId": "2a7d996b-a2f7-4e95-e751-add68edda44e"
      },
      "source": [
        "a = 33\n",
        "b = 33\n",
        "if b > a:\n",
        "  print(\"b is greater than a\")\n",
        "elif a == b:\n",
        "  print(\"a and b are equal\")"
      ],
      "execution_count": null,
      "outputs": [
        {
          "output_type": "stream",
          "name": "stdout",
          "text": [
            "a and b are equal\n"
          ]
        }
      ]
    },
    {
      "cell_type": "code",
      "source": [
        "a = 200\n",
        "b = 33\n",
        "if b > a:\n",
        "  print(\"b is greater than a\")\n",
        "elif a == b:\n",
        "  print(\"a and b are equal\")\n",
        "else:\n",
        "  print(\"a is greater than b\")"
      ],
      "metadata": {
        "id": "R6g4zrMLlUlI"
      },
      "execution_count": null,
      "outputs": []
    },
    {
      "cell_type": "code",
      "metadata": {
        "id": "lAPT9eYBxqaD"
      },
      "source": [
        "# de data asta avem mai multe mingi                             10 min\n",
        "# si ce trebuie sa aflam e daca avem\n",
        "# vreo minge de aceeasi culoare cu mingea 1\n",
        "# - daca avem, afisati \"Mingea 1 cu mingea x au aceeasi culoare\"\n",
        "# - daca nu avem, afisati \"Avem doar o singura minge rosie\"\n",
        "\n",
        "ball_1 = 'rosu'\n",
        "ball_2 = 'verde'\n",
        "ball_3 = 'rosu'\n",
        "ball_4 = 'albastru'\n",
        "\n",
        "if..."
      ],
      "execution_count": null,
      "outputs": []
    },
    {
      "cell_type": "markdown",
      "metadata": {
        "id": "URVgBXVnwUVH"
      },
      "source": [
        "### **Operatori logici**"
      ]
    },
    {
      "cell_type": "markdown",
      "source": [
        "**Operațiile boolean** compară careva afirmații, rezultatul acestei comparații fiind o valoare boolean. Există trei operații de tip boolean:"
      ],
      "metadata": {
        "id": "0px7Rs-knMgu"
      }
    },
    {
      "cell_type": "markdown",
      "metadata": {
        "id": "2Exmp0UGx8uI"
      },
      "source": [
        "\n",
        "\n",
        "---\n",
        "\n",
        "\n",
        "\n",
        "* **And**"
      ]
    },
    {
      "cell_type": "markdown",
      "source": [
        "**And** verifică dacă ambele afirmații sunt **True**."
      ],
      "metadata": {
        "id": "b7cGVVPvnolj"
      }
    },
    {
      "cell_type": "markdown",
      "source": [
        "**De exemplu:**\n",
        "\n",
        "Eu voi cumpăra pâine dacă:\n",
        "\n",
        "  1. Voi avea bani .\n",
        "\n",
        "**ȘI (AND)**\n",
        "\n",
        "  2. Dacă va fi pâine la magazin.\n"
      ],
      "metadata": {
        "id": "DasRPHU3oFbg"
      }
    },
    {
      "cell_type": "code",
      "metadata": {
        "id": "MfNBJKyiwgEt"
      },
      "source": [
        "# and\n",
        "\n",
        "a = True and True\n",
        "b = True and False\n",
        "c = False and True\n",
        "d = False and False\n",
        "\n",
        "# Cum credeti ce valori vor avea a, b, c, d?\n",
        "# Printam."
      ],
      "execution_count": null,
      "outputs": []
    },
    {
      "cell_type": "markdown",
      "metadata": {
        "id": "Osax6pg0yI5t"
      },
      "source": [
        "\n",
        "\n",
        "---\n",
        "\n",
        "\n",
        "\n",
        "* **Or**"
      ]
    },
    {
      "cell_type": "markdown",
      "source": [
        "**Or** verifică **dacă cel puțin** o afirmație este **True**."
      ],
      "metadata": {
        "id": "ntqLFH4uosDe"
      }
    },
    {
      "cell_type": "markdown",
      "metadata": {
        "id": "3yO90BG_yPtX"
      },
      "source": [
        "Eu voi fi fericit/fericită:\n",
        "1. Dacă se amana examenele\n",
        "**SAU**(**or**)\n",
        "2. Dacă iau o nota mare la ele\n"
      ]
    },
    {
      "cell_type": "code",
      "metadata": {
        "id": "U5XwT71UzSMQ"
      },
      "source": [
        "# or\n",
        "a = True or True\n",
        "b = True or False\n",
        "c = False or True\n",
        "d = False or False\n",
        "\n",
        "# Cum credeti ce valori vor avea a, b, c, d?\n",
        "# Printam."
      ],
      "execution_count": null,
      "outputs": []
    },
    {
      "cell_type": "markdown",
      "metadata": {
        "id": "GxYp1oZTzfdd"
      },
      "source": [
        "\n",
        "\n",
        "---\n",
        "\n",
        "\n",
        "\n",
        "* **Not**"
      ]
    },
    {
      "cell_type": "markdown",
      "source": [
        "**Not** este **opusul** afirmației."
      ],
      "metadata": {
        "id": "drwAgHExpAYI"
      }
    },
    {
      "cell_type": "markdown",
      "metadata": {
        "id": "DLxhLyJbzmya"
      },
      "source": [
        "Eu voi sta acasă dacă:\n",
        "\n",
        "**NU(not)**\n",
        "\n",
        "Se deschide școala"
      ]
    },
    {
      "cell_type": "code",
      "metadata": {
        "id": "IYFCm8Aq1Bs6"
      },
      "source": [
        "# not\n",
        "\n",
        "a = not True\n",
        "b = not False\n",
        "\n",
        "# Cum credeti ce valori vor avea a, b, c, d?\n",
        "# Printam."
      ],
      "execution_count": null,
      "outputs": []
    },
    {
      "cell_type": "code",
      "metadata": {
        "id": "McY_thMg1ZXi"
      },
      "source": [
        "# Dar de exemplu ce valori vor avea aici a, b, c, d?\n",
        "a = not (True and True)\n",
        "b = not (False and True)\n",
        "d = not (False or False)\n",
        "\n",
        "# print"
      ],
      "execution_count": null,
      "outputs": []
    },
    {
      "cell_type": "markdown",
      "source": [
        "\n",
        "\n",
        "\n",
        "---\n",
        "\n",
        "\n",
        " **True**  and **True** -  este **True**\n",
        "\n",
        " **True**  and **False** - este **False**\n",
        "\n",
        "**False** and **True** -  este **False**\n",
        "\n",
        " **False** and **False** - este **False**\n",
        "\n",
        " **True**  or **True** - este **True**\n",
        "\n",
        "**True**  or **False** - este **True**\n",
        "\n",
        " **False** or **True**  - este **True**\n",
        "\n",
        "**False** or **False** - este **False**\n",
        "\n",
        "**Not True**  - este **False**\n",
        "\n",
        " **Not False** - este **True**"
      ],
      "metadata": {
        "id": "-7GAzTj7puS2"
      }
    },
    {
      "cell_type": "markdown",
      "metadata": {
        "id": "ZNoJP5EtjEDv"
      },
      "source": [
        "**Întrebări ?**"
      ]
    },
    {
      "cell_type": "markdown",
      "metadata": {
        "id": "uan32HoH6RQW"
      },
      "source": [
        "# Exerciții!"
      ]
    },
    {
      "cell_type": "markdown",
      "metadata": {
        "id": "8T3RcB2CUXsI"
      },
      "source": [
        "1.Scrie un program care va afișa \"a este egal cu b si c este egal d\", dacă într-adevăr `a` este egal cu `b` și `c` este egal cu `d`. Dacă aceasta nu este adevărat, atunci transformă variabilele in așa fel, încât afirmația de mai sus să fie adevărată...\n",
        "\n",
        "\n",
        "1.2 Challenge! Extensie a problemei: ...și mai verifică o dată dacă `a` este egal cu `b` și dacă `c` este egal cu `d`. Dacă într-un final aceste afirmații vor fi egale, printează \"acum a este egal cu b si c este egal d\"."
      ]
    },
    {
      "cell_type": "code",
      "metadata": {
        "id": "it3FQ1THktJJ"
      },
      "source": [
        "a = 5\n",
        "b = '5'\n",
        "c = 10\n",
        "d = 10.5\n",
        "\n"
      ],
      "execution_count": null,
      "outputs": []
    },
    {
      "cell_type": "code",
      "metadata": {
        "id": "nrUpIXkbks8o"
      },
      "source": [
        "\n"
      ],
      "execution_count": null,
      "outputs": []
    },
    {
      "cell_type": "markdown",
      "metadata": {
        "id": "SoCmT6F5h5Hr"
      },
      "source": [
        "2. Scrie un program care verifică dacă valoarea variabilei `a` este modulul lui 10 sau nu. Dacă da atunci afișează 'a este modulul lui 10', daca nu, atunci afișează 'a nu este modulul lui 10'.\n",
        "\n",
        "\n",
        "2.1 Challenge! Extensie a problemei:...dacă `a` nu este modulul lui 10 atunci verifică cât de aproape este `a` de un modul a lui 10, dacă e cu 2 unități mai mare sau mai mic decât modulul lui 10 atunci afișează 'a este aproape de modulul lui 10', dacă nu, atunci  afișează 'a este departe de modulul lui 10'"
      ]
    },
    {
      "cell_type": "code",
      "metadata": {
        "id": "s-e7NsLgks6M"
      },
      "source": [],
      "execution_count": null,
      "outputs": []
    },
    {
      "cell_type": "markdown",
      "metadata": {
        "id": "vYI4wOF-vYZk"
      },
      "source": [
        "3. Creați o variabilă, `b`, și atribuiți-i valoarea `15`. Apoi, scrieți cod pentru a vedea dacă valoarea `b` este mai mare decât cea `a`. Dacă este, valoarea lui a trebuie `înmulțită cu 2`. Dacă valoarea lui `b` este mai mică sau egală cu `a`, nu ar trebui să se întâmple nimic. În cele din urmă, creați variabila `c` și atribuiți-i valoarea sumei lui `a `și `b`."
      ]
    },
    {
      "cell_type": "code",
      "metadata": {
        "id": "oKgIVkDWvmme"
      },
      "source": [
        "a = 20"
      ],
      "execution_count": null,
      "outputs": []
    },
    {
      "cell_type": "markdown",
      "metadata": {
        "id": "5l8yHW1CwMW5"
      },
      "source": [
        "4. Un an este un an bisect dacă este divizibil cu 4. Dacă anul poate fi împărțit în mod egal la 100, NU este un an bisect, cu excepția cazului în care anul este, de asemenea, divizibil în mod egal cu 400. Atunci este un an bisect. Scrieți cod care solicită utilizatorului să introducă un an și să scoată `True` dacă este un an bisect sau `False` în caz contrar. Folosiți declarațiile `if`.\n",
        "\n",
        "1944 True\n",
        "\n",
        "2011 False\n",
        "\n",
        "1986 False\n",
        "\n",
        "1800 False\n",
        "\n",
        "1900 False\n",
        "\n",
        "2000 True\n",
        "\n",
        "2056 True\n",
        "\n",
        "\n",
        "Mai sus sunt câteva exemple despre cum ar trebui să fie output-ul pentru diferite input-uri.\n",
        "\n"
      ]
    },
    {
      "cell_type": "code",
      "metadata": {
        "id": "nCYD2RWoO-SL"
      },
      "source": [],
      "execution_count": null,
      "outputs": []
    },
    {
      "cell_type": "markdown",
      "metadata": {
        "id": "lu22joYKxYtN"
      },
      "source": [
        "5. Scrieți un program folosind condiționalul if, astfel încât dacă `„Friendly”` este subsecventa a sirului `w`, atunci `„Friendly is here!”` ar trebui să fie atribuită variabilei `wrd`. Dacă nu, verificați dacă `„Friend” `este în `w`. Dacă da, stringul `„Friend is here!”` ar trebui să fie atribuită variabilei `wrd`, altfel `„No variation of friend is in here.”`. ar trebui să fie atribuită variabilei `wrd`. (Fiți atenți la ordinea instrucțiunilor in programul dvs.)\n",
        "\n"
      ]
    },
    {
      "cell_type": "code",
      "metadata": {
        "id": "x_2-8VoVks3x"
      },
      "source": [
        "w = \"Friendship is a wonderful human experience!\"\n"
      ],
      "execution_count": null,
      "outputs": []
    },
    {
      "cell_type": "code",
      "metadata": {
        "id": "9bSnPzajvmsG",
        "colab": {
          "base_uri": "https://localhost:8080/"
        },
        "outputId": "0b78ce1d-77f9-4f9e-8ad2-2dd993d9c55d"
      },
      "source": [
        "a=1\n",
        "\n",
        "str(a)\n",
        "int(a)\n",
        "print(type(a))"
      ],
      "execution_count": null,
      "outputs": [
        {
          "output_type": "stream",
          "name": "stdout",
          "text": [
            "<class 'int'>\n"
          ]
        }
      ]
    }
  ]
}